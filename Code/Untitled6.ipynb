{
  "nbformat": 4,
  "nbformat_minor": 0,
  "metadata": {
    "colab": {
      "name": "Untitled6.ipynb",
      "provenance": [],
      "collapsed_sections": [],
      "include_colab_link": true
    },
    "kernelspec": {
      "name": "python3",
      "display_name": "Python 3"
    },
    "language_info": {
      "name": "python"
    }
  },
  "cells": [
    {
      "cell_type": "markdown",
      "metadata": {
        "id": "view-in-github",
        "colab_type": "text"
      },
      "source": [
        "<a href=\"https://colab.research.google.com/github/Roopa3antony/simple-keras-/blob/main/Untitled6.ipynb\" target=\"_parent\"><img src=\"https://colab.research.google.com/assets/colab-badge.svg\" alt=\"Open In Colab\"/></a>"
      ]
    },
    {
      "cell_type": "markdown",
      "metadata": {
        "id": "Y--odFBEifUa"
      },
      "source": [
        "Prepocessing the Data"
      ]
    },
    {
      "cell_type": "code",
      "metadata": {
        "colab": {
          "base_uri": "https://localhost:8080/"
        },
        "id": "s_Ym06a4la_C",
        "outputId": "0db4d597-4437-4f50-ed3f-bf6d9aac9d59"
      },
      "source": [
        "import pandas as pd\n",
        "from sklearn.preprocessing import MinMaxScaler\n",
        "\n",
        "# Load training data set from CSV file\n",
        "training_data_df = pd.read_csv(\"sales_data_training.csv\")\n",
        "\n",
        "# Load testing data set from CSV file\n",
        "test_data_df = pd.read_csv(\"sales_data_test.csv\")\n",
        "\n",
        "# Data needs to be scaled to a small range like 0 to 1 for the neural\n",
        "# network to work well.\n",
        "scaler = MinMaxScaler(feature_range=(0, 1))\n",
        "\n",
        "# Scale both the training inputs and outputs\n",
        "scaled_training = scaler.fit_transform(training_data_df)\n",
        "scaled_testing = scaler.transform(test_data_df)\n",
        "\n",
        "# Print out the adjustment that the scaler applied to the total_earnings column of data\n",
        "print(\"Note: total_earnings values were scaled by multiplying by {:.10f} and adding {:.6f}\".format(scaler.scale_[8], scaler.min_[8]))\n",
        "\n",
        "# Create new pandas DataFrame objects from the scaled data\n",
        "scaled_training_df = pd.DataFrame(scaled_training, columns=training_data_df.columns.values)\n",
        "scaled_testing_df = pd.DataFrame(scaled_testing, columns=test_data_df.columns.values)\n",
        "\n",
        "# Save scaled data dataframes to new CSV files\n",
        "scaled_training_df.to_csv(\"sales_data_training_scaled.csv\", index=False)\n",
        "scaled_testing_df.to_csv(\"sales_data_test_scaled.csv\", index=False)"
      ],
      "execution_count": 1,
      "outputs": [
        {
          "output_type": "stream",
          "text": [
            "Note: total_earnings values were scaled by multiplying by 0.0000036968 and adding -0.115913\n"
          ],
          "name": "stdout"
        }
      ]
    },
    {
      "cell_type": "markdown",
      "metadata": {
        "id": "jWV1oFNbi3Yt"
      },
      "source": [
        "Define the Model"
      ]
    },
    {
      "cell_type": "code",
      "metadata": {
        "id": "T6vwXxh6oPvO"
      },
      "source": [
        "import pandas as pd\n",
        "from keras.models import Sequential\n",
        "from keras.layers import *\n",
        "\n",
        "training_data_df = pd.read_csv(\"sales_data_training_scaled.csv\")\n",
        "\n",
        "X = training_data_df.drop('total_earnings', axis=1).values\n",
        "Y = training_data_df[['total_earnings']].values\n",
        "\n",
        "# Define the model\n",
        "model = Sequential()\n",
        "model.add(Dense(50, input_dim=9, activation='relu'))\n",
        "model.add(Dense(100, activation='relu'))\n",
        "model.add(Dense(50, activation='relu'))\n",
        "model.add(Dense(1, activation='linear'))\n",
        "model.compile(loss=\"mean_squared_error\", optimizer='adam')\n"
      ],
      "execution_count": 2,
      "outputs": []
    },
    {
      "cell_type": "markdown",
      "metadata": {
        "id": "cWsXqCWEi6lz"
      },
      "source": [
        "Train the Model"
      ]
    },
    {
      "cell_type": "code",
      "metadata": {
        "id": "1Y5BrI4ssAIF",
        "colab": {
          "base_uri": "https://localhost:8080/"
        },
        "outputId": "69bb3ed9-e738-45d2-a14f-a503344c7f90"
      },
      "source": [
        "model.fit(X,\n",
        "          Y,\n",
        "          epochs=50,\n",
        "          shuffle=True,\n",
        "          verbose=2)\n",
        "\n"
      ],
      "execution_count": 3,
      "outputs": [
        {
          "output_type": "stream",
          "text": [
            "Epoch 1/50\n",
            "32/32 - 13s - loss: 0.0214\n",
            "Epoch 2/50\n",
            "32/32 - 0s - loss: 0.0023\n",
            "Epoch 3/50\n",
            "32/32 - 0s - loss: 7.4971e-04\n",
            "Epoch 4/50\n",
            "32/32 - 0s - loss: 3.8184e-04\n",
            "Epoch 5/50\n",
            "32/32 - 0s - loss: 2.2958e-04\n",
            "Epoch 6/50\n",
            "32/32 - 0s - loss: 1.6706e-04\n",
            "Epoch 7/50\n",
            "32/32 - 0s - loss: 1.3151e-04\n",
            "Epoch 8/50\n",
            "32/32 - 0s - loss: 1.2311e-04\n",
            "Epoch 9/50\n",
            "32/32 - 0s - loss: 9.0934e-05\n",
            "Epoch 10/50\n",
            "32/32 - 0s - loss: 7.0954e-05\n",
            "Epoch 11/50\n",
            "32/32 - 0s - loss: 6.2919e-05\n",
            "Epoch 12/50\n",
            "32/32 - 0s - loss: 6.0181e-05\n",
            "Epoch 13/50\n",
            "32/32 - 0s - loss: 5.8394e-05\n",
            "Epoch 14/50\n",
            "32/32 - 0s - loss: 4.7327e-05\n",
            "Epoch 15/50\n",
            "32/32 - 0s - loss: 4.0453e-05\n",
            "Epoch 16/50\n",
            "32/32 - 0s - loss: 3.6682e-05\n",
            "Epoch 17/50\n",
            "32/32 - 0s - loss: 3.6142e-05\n",
            "Epoch 18/50\n",
            "32/32 - 0s - loss: 3.0314e-05\n",
            "Epoch 19/50\n",
            "32/32 - 0s - loss: 3.1066e-05\n",
            "Epoch 20/50\n",
            "32/32 - 0s - loss: 3.2733e-05\n",
            "Epoch 21/50\n",
            "32/32 - 0s - loss: 2.9089e-05\n",
            "Epoch 22/50\n",
            "32/32 - 0s - loss: 2.9624e-05\n",
            "Epoch 23/50\n",
            "32/32 - 0s - loss: 4.2756e-05\n",
            "Epoch 24/50\n",
            "32/32 - 0s - loss: 3.3981e-05\n",
            "Epoch 25/50\n",
            "32/32 - 0s - loss: 2.9663e-05\n",
            "Epoch 26/50\n",
            "32/32 - 0s - loss: 2.4947e-05\n",
            "Epoch 27/50\n",
            "32/32 - 0s - loss: 2.8696e-05\n",
            "Epoch 28/50\n",
            "32/32 - 0s - loss: 2.5001e-05\n",
            "Epoch 29/50\n",
            "32/32 - 0s - loss: 2.7228e-05\n",
            "Epoch 30/50\n",
            "32/32 - 0s - loss: 2.8738e-05\n",
            "Epoch 31/50\n",
            "32/32 - 0s - loss: 3.7705e-05\n",
            "Epoch 32/50\n",
            "32/32 - 0s - loss: 3.0669e-05\n",
            "Epoch 33/50\n",
            "32/32 - 0s - loss: 2.4956e-05\n",
            "Epoch 34/50\n",
            "32/32 - 0s - loss: 2.8051e-05\n",
            "Epoch 35/50\n",
            "32/32 - 0s - loss: 2.6687e-05\n",
            "Epoch 36/50\n",
            "32/32 - 0s - loss: 2.7454e-05\n",
            "Epoch 37/50\n",
            "32/32 - 0s - loss: 4.7550e-05\n",
            "Epoch 38/50\n",
            "32/32 - 0s - loss: 2.3671e-05\n",
            "Epoch 39/50\n",
            "32/32 - 0s - loss: 4.5196e-05\n",
            "Epoch 40/50\n",
            "32/32 - 0s - loss: 4.1222e-05\n",
            "Epoch 41/50\n",
            "32/32 - 0s - loss: 2.3268e-05\n",
            "Epoch 42/50\n",
            "32/32 - 0s - loss: 2.4546e-05\n",
            "Epoch 43/50\n",
            "32/32 - 0s - loss: 2.3474e-05\n",
            "Epoch 44/50\n",
            "32/32 - 0s - loss: 3.1858e-05\n",
            "Epoch 45/50\n",
            "32/32 - 0s - loss: 2.6334e-05\n",
            "Epoch 46/50\n",
            "32/32 - 0s - loss: 3.4444e-05\n",
            "Epoch 47/50\n",
            "32/32 - 0s - loss: 2.4413e-05\n",
            "Epoch 48/50\n",
            "32/32 - 0s - loss: 2.8100e-05\n",
            "Epoch 49/50\n",
            "32/32 - 0s - loss: 2.2576e-05\n",
            "Epoch 50/50\n",
            "32/32 - 0s - loss: 2.5322e-05\n"
          ],
          "name": "stdout"
        },
        {
          "output_type": "execute_result",
          "data": {
            "text/plain": [
              "<keras.callbacks.History at 0x7fee5da29050>"
            ]
          },
          "metadata": {
            "tags": []
          },
          "execution_count": 3
        }
      ]
    },
    {
      "cell_type": "markdown",
      "metadata": {
        "id": "stSjJelUxR8D"
      },
      "source": [
        "Load the Seperate Test Dataset"
      ]
    },
    {
      "cell_type": "code",
      "metadata": {
        "colab": {
          "base_uri": "https://localhost:8080/"
        },
        "id": "feY_V10ijzee",
        "outputId": "781ee2a5-a412-422c-f177-a8ccb527607b"
      },
      "source": [
        "test_data_df = pd.read_csv(\"sales_data_test_scaled.csv\")\n",
        "X_test = test_data_df.drop('total_earnings', axis=1).values\n",
        "Y_test = test_data_df[['total_earnings']].values\n",
        "test_error_rate = model.evaluate(X_test, Y_test, verbose=0)\n",
        "print(\"The mean square error MSE for the test data is: {}\".format(test_error_rate))\n"
      ],
      "execution_count": 9,
      "outputs": [
        {
          "output_type": "stream",
          "text": [
            "The mean square error MSE for the test data is: 7.883496436988935e-05\n"
          ],
          "name": "stdout"
        }
      ]
    },
    {
      "cell_type": "markdown",
      "metadata": {
        "id": "de6uNlRd3NgZ"
      },
      "source": [
        "Save the model"
      ]
    },
    {
      "cell_type": "code",
      "metadata": {
        "colab": {
          "base_uri": "https://localhost:8080/"
        },
        "id": "PEhnbPaN3M5l",
        "outputId": "15ddaf97-1384-4586-e300-7eadb5a78329"
      },
      "source": [
        "model.save(\"trained_model.h5\")\n",
        "print(\"Model saved to disk!\")"
      ],
      "execution_count": 19,
      "outputs": [
        {
          "output_type": "stream",
          "text": [
            "Model saved to disk!\n"
          ],
          "name": "stdout"
        }
      ]
    },
    {
      "cell_type": "markdown",
      "metadata": {
        "id": "z1-lubdAzjj6"
      },
      "source": [
        "Prediction"
      ]
    },
    {
      "cell_type": "code",
      "metadata": {
        "id": "yjMEfEh_4JXR"
      },
      "source": [
        "from keras.models import load_model\n",
        "model = load_model(\"trained_model.h5\")"
      ],
      "execution_count": 23,
      "outputs": []
    },
    {
      "cell_type": "code",
      "metadata": {
        "id": "Ob2stOIyyRjn"
      },
      "source": [
        "X_pred = pd.read_csv(\"proposed_new_product.csv\")"
      ],
      "execution_count": 24,
      "outputs": []
    },
    {
      "cell_type": "markdown",
      "metadata": {
        "id": "T9GPP_4k0P2o"
      },
      "source": [
        "Make a prediction with the Neural Network\n"
      ]
    },
    {
      "cell_type": "code",
      "metadata": {
        "id": "9zIaDulA0Kaf"
      },
      "source": [
        "prediction = model.predict(X_pred)"
      ],
      "execution_count": 25,
      "outputs": []
    },
    {
      "cell_type": "markdown",
      "metadata": {
        "id": "oGrxStYs0hxA"
      },
      "source": [
        "Grab just the first element  of the first prediction\n"
      ]
    },
    {
      "cell_type": "code",
      "metadata": {
        "id": "2vUCgLqG0qYO"
      },
      "source": [
        "prediction =prediction[0][0]"
      ],
      "execution_count": 26,
      "outputs": []
    },
    {
      "cell_type": "markdown",
      "metadata": {
        "id": "ewPfkqdo1r0x"
      },
      "source": [
        "Rescale the Data\n"
      ]
    },
    {
      "cell_type": "code",
      "metadata": {
        "id": "iwUzHArk1uTr"
      },
      "source": [
        "prediction = prediction + 0.1559\n",
        "prediction = prediction / 0.0000036968"
      ],
      "execution_count": 27,
      "outputs": []
    },
    {
      "cell_type": "code",
      "metadata": {
        "colab": {
          "base_uri": "https://localhost:8080/"
        },
        "id": "HfnsZ6Rz19Wi",
        "outputId": "8719d0c7-e237-4663-b497-ef5d83a5243f"
      },
      "source": [
        "print('Earnings Prediction:{}'.format(prediction))"
      ],
      "execution_count": 28,
      "outputs": [
        {
          "output_type": "stream",
          "text": [
            "Earnings Prediction:269404.15839926037\n"
          ],
          "name": "stdout"
        }
      ]
    },
    {
      "cell_type": "code",
      "metadata": {
        "id": "exY3c5_r2Qfk"
      },
      "source": [
        ""
      ],
      "execution_count": null,
      "outputs": []
    }
  ]
}
